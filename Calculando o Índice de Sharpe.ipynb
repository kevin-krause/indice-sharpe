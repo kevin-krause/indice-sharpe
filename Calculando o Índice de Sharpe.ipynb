{
 "cells": [
  {
   "cell_type": "markdown",
   "metadata": {},
   "source": [
    "# Calculando o Índice de Sharpe"
   ]
  },
  {
   "cell_type": "code",
   "execution_count": 28,
   "metadata": {},
   "outputs": [],
   "source": [
    "import pandas as pd\n",
    "from pandas_datareader import data as pdr\n",
    "import numpy as np\n",
    "import matplotlib.pyplot as plt\n",
    "from datetime import datetime\n",
    "from datetime import timedelta"
   ]
  },
  {
   "cell_type": "code",
   "execution_count": 29,
   "metadata": {},
   "outputs": [],
   "source": [
    "# Download dos dados necessários para calcular o índice Sharpe\n",
    "# tempo ideal para calc um beta é de 5 anos (data atual - 1) -  menos 5 anos\n",
    "ativo_1 = 'VALE3.SA'\n",
    "ativo_2 = '^BVSP'\n",
    "\n",
    "carteira = [ativo_1, ativo_2]\n",
    "\n",
    "end_d = datetime.now()\n",
    "start_d = end_d - timedelta(1825)\n",
    "\n",
    "mdata = pd.DataFrame()\n",
    "for t in carteira:\n",
    "    mdata[t] = pdr.DataReader(t,data_source='yahoo',start=start_d, end =end_d)['Adj Close']\n",
    "\n",
    "df_log= np.log(mdata / mdata.shift(1))\n",
    "    \n",
    "cov = df_log.cov()*250\n",
    "\n",
    "cov_com_mercado = cov.iloc[0,1]\n",
    "\n",
    "var_mercado = df_log[ativo_2].var() * 250"
   ]
  },
  {
   "cell_type": "markdown",
   "metadata": {},
   "source": [
    "# Formula:\n",
    "Beta:\n",
    "\n",
    "beta_acao = cov_com_mercado / var_mercado"
   ]
  },
  {
   "cell_type": "code",
   "execution_count": 30,
   "metadata": {},
   "outputs": [
    {
     "data": {
      "text/plain": [
       "0.9214992677189004"
      ]
     },
     "execution_count": 30,
     "metadata": {},
     "output_type": "execute_result"
    }
   ],
   "source": [
    "beta_acao = cov_com_mercado / var_mercado\n",
    "beta_acao"
   ]
  },
  {
   "cell_type": "markdown",
   "metadata": {},
   "source": [
    "**Calculando a expectativa de retorno de uma Ação (CAPM):**\n",
    "\n",
    "\n",
    "Premio de risco (Valor da Inflação)\n",
    "- inflação considerada como atual: 'https://www.mobills.com.br/tabelas/igp-m/' - calculado pela FGV\n",
    "\n",
    "### ERi = Rf + βi (ERm – Rf)\n",
    "\n",
    "ERi = Retorno Esperado do Investimento (Expected Return of Investiment);\n",
    "\n",
    "Rf = Taxa Livre de Risco (Risk-free rate);\n",
    "\n",
    "βi = Beta do investimento (Beta of the investment);\n",
    "\n",
    "ERm = Retorno Esperado do Mercado (Expected Return of market) - nesse caso : variação 52 semanas do IBOV;\n",
    "\n",
    "(ERm – Rf) = Prêmio de Risco de Mercado (Market risk premium)."
   ]
  },
  {
   "cell_type": "code",
   "execution_count": 37,
   "metadata": {},
   "outputs": [
    {
     "name": "stdout",
     "output_type": "stream",
     "text": [
      "6.876 %\n"
     ]
    }
   ],
   "source": [
    "\n",
    "taxa_livre_de_risco = 0.1375 # taxa selic atual\n",
    "\n",
    "beta_acao = cov_com_mercado / var_mercado\n",
    "\n",
    "premio_mercado = 0.0629 # retorno 52 semanas IBOV\n",
    "\n",
    "retorno_esp_min = taxa_livre_de_risco + beta_acao * (premio_mercado - taxa_livre_de_risco)\n",
    "\n",
    "print (str(round(retorno_esp_min, 5) * 100) + ' %')"
   ]
  },
  {
   "cell_type": "markdown",
   "metadata": {},
   "source": [
    "**Indice Sharpe :**\n",
    "\n",
    "Sharpe = (Ri – Rf) / (σi)\n",
    "\n",
    "Ri = Retorno esperado do ativo analisado;\n",
    "\n",
    "Rf = Taxa livre de risco\n",
    "\n",
    "σi = volatilidade do ativo"
   ]
  },
  {
   "cell_type": "code",
   "execution_count": 38,
   "metadata": {},
   "outputs": [],
   "source": [
    "sharpe = (retorno_esp_min - taxa_livre_de_risco)/(df_log[ativo_1].std() * 250 ** 0.5)"
   ]
  },
  {
   "cell_type": "code",
   "execution_count": 39,
   "metadata": {},
   "outputs": [
    {
     "name": "stdout",
     "output_type": "stream",
     "text": [
      "-0.16686 pontos\n"
     ]
    }
   ],
   "source": [
    "sharpe = round(sharpe, 5)\n",
    "print(sharpe, 'pontos')"
   ]
  }
 ],
 "metadata": {
  "kernelspec": {
   "display_name": "Python 3.9.7 64-bit",
   "language": "python",
   "name": "python3"
  },
  "language_info": {
   "codemirror_mode": {
    "name": "ipython",
    "version": 3
   },
   "file_extension": ".py",
   "mimetype": "text/x-python",
   "name": "python",
   "nbconvert_exporter": "python",
   "pygments_lexer": "ipython3",
   "version": "3.9.7"
  },
  "vscode": {
   "interpreter": {
    "hash": "8fa0defc4cf06f2b13e36a377494b66ed142011eef6474a42c799b43f2f1f6ff"
   }
  }
 },
 "nbformat": 4,
 "nbformat_minor": 2
}
